{
 "cells": [
  {
   "cell_type": "code",
   "execution_count": 25,
   "metadata": {},
   "outputs": [],
   "source": [
    "# Aquí estamos realizando el respectivo. \n",
    "\n",
    "import pandas as pd\n",
    "import os\n",
    "from sklearn.model_selection import train_test_split\n",
    "from sklearn.preprocessing import StandardScaler, OneHotEncoder\n",
    "from sklearn.compose import ColumnTransformer\n",
    "from sklearn.pipeline import Pipeline\n",
    "from sklearn.impute import SimpleImputer\n",
    "from sklearn.ensemble import RandomForestRegressor\n",
    "from sklearn.metrics import mean_absolute_error"
   ]
  },
  {
   "cell_type": "code",
   "execution_count": 35,
   "metadata": {},
   "outputs": [
    {
     "name": "stdout",
     "output_type": "stream",
     "text": [
      "Current Directory: /Users/matdknu/Dropbox/MACI-UDEC/fundamento-ccdd\n"
     ]
    }
   ],
   "source": [
    "current_directory = os.getcwd()\n",
    "print(\"Current Directory:\", current_directory)\n"
   ]
  },
  {
   "cell_type": "code",
   "execution_count": 36,
   "metadata": {},
   "outputs": [
    {
     "name": "stdout",
     "output_type": "stream",
     "text": [
      "New Directory: /Users/matdknu/Dropbox/MACI-UDEC/fundamento-ccdd\n"
     ]
    }
   ],
   "source": [
    "# Establecer el nuevo directorio de trabajo\n",
    "new_directory = '/Users/matdknu/Dropbox/MACI-UDEC/fundamento-ccdd/'\n",
    "os.chdir(new_directory)\n",
    "\n",
    "# Verificar que el directorio ha cambiado\n"
   ]
  },
  {
   "cell_type": "code",
   "execution_count": 37,
   "metadata": {},
   "outputs": [
    {
     "name": "stderr",
     "output_type": "stream",
     "text": [
      "/var/folders/hg/s4skq8ks6g1fy2jw2fdkp0840000gn/T/ipykernel_5822/1841568701.py:5: UserWarning: Parsing dates in %d.%m.%Y format when dayfirst=False (the default) was specified. Pass `dayfirst=True` or specify a format to silence this warning.\n",
      "  data['age'] = 2024 - pd.to_datetime(data['birthday']).dt.year\n"
     ]
    }
   ],
   "source": [
    "# Cargar los datos\n",
    "data = pd.read_csv('trabajo/bbdd/redcard_data.csv')  # Reemplazar con la ruta correcta del archivo CSV\n",
    "\n",
    "# Convertir fecha de nacimiento en edad\n",
    "data['age'] = 2024 - pd.to_datetime(data['birthday']).dt.year\n",
    "\n",
    "# Selección de características y variable objetivo\n",
    "features = ['club', 'leagueCountry', 'age', 'height', 'weight', 'position', 'games', 'victories', 'ties', 'defeats',\n",
    "            'yellowCards', 'yellowReds', 'redCards', 'rater1', 'rater2', 'refCountry', 'meanIAT', 'meanExp']\n",
    "target = 'goals'"
   ]
  },
  {
   "cell_type": "code",
   "execution_count": 29,
   "metadata": {},
   "outputs": [
    {
     "name": "stderr",
     "output_type": "stream",
     "text": [
      "/var/folders/hg/s4skq8ks6g1fy2jw2fdkp0840000gn/T/ipykernel_5822/1137908486.py:2: UserWarning: Parsing dates in %d.%m.%Y format when dayfirst=False (the default) was specified. Pass `dayfirst=True` or specify a format to silence this warning.\n",
      "  data['age'] = 2024 - pd.to_datetime(data['birthday']).dt.year\n"
     ]
    }
   ],
   "source": [
    "# Convertir fecha de nacimiento en edad\n",
    "data['age'] = 2024 - pd.to_datetime(data['birthday']).dt.year\n",
    "\n",
    "# Selección de características y variable objetivo\n",
    "features = ['club', 'leagueCountry', 'age', 'height', 'weight', 'position', 'games', 'victories', 'ties', 'defeats',\n",
    "            'yellowCards', 'yellowReds', 'redCards', 'rater1', 'rater2', 'refCountry', 'meanIAT', 'meanExp']\n",
    "target = 'goals'"
   ]
  },
  {
   "cell_type": "code",
   "execution_count": 30,
   "metadata": {},
   "outputs": [],
   "source": [
    "# Selección de características y variable objetivo\n",
    "features = ['club', 'leagueCountry', 'age', 'height', 'weight', 'position', 'games', 'victories', 'ties', 'defeats',\n",
    "            'yellowCards', 'yellowReds', 'redCards', 'rater1', 'rater2', 'refCountry', 'meanIAT', 'meanExp']\n",
    "target = 'goals'\n",
    "\n",
    "X = data[features]\n",
    "y = data[target]\n",
    "X_train, X_test, y_train, y_test = train_test_split(X, y, test_size=0.2, random_state=42)\n",
    "\n"
   ]
  },
  {
   "cell_type": "code",
   "execution_count": 31,
   "metadata": {},
   "outputs": [],
   "source": [
    "# Preprocesamiento\n",
    "numeric_features = ['age', 'height', 'weight', 'games', 'victories', 'ties', 'defeats', 'yellowCards', 'yellowReds', 'redCards', 'rater1', 'rater2', 'meanIAT', 'meanExp']\n",
    "categorical_features = ['club', 'leagueCountry', 'position', 'refCountry']\n",
    "\n",
    "numeric_transformer = Pipeline(steps=[\n",
    "    ('imputer', SimpleImputer(strategy='median')),\n",
    "    ('scaler', StandardScaler())])\n",
    "\n",
    "categorical_transformer = Pipeline(steps=[\n",
    "    ('imputer', SimpleImputer(strategy='constant', fill_value='missing')),\n",
    "    ('onehot', OneHotEncoder(handle_unknown='ignore'))])\n",
    "\n",
    "preprocessor = ColumnTransformer(\n",
    "    transformers=[\n",
    "        ('num', numeric_transformer, numeric_features),\n",
    "        ('cat', categorical_transformer, categorical_features)])"
   ]
  },
  {
   "cell_type": "code",
   "execution_count": 32,
   "metadata": {},
   "outputs": [
    {
     "name": "stderr",
     "output_type": "stream",
     "text": [
      "UsageError: Line magic function `%%script` not found.\n"
     ]
    }
   ],
   "source": [
    "# Modelo\n",
    "%%script false\n",
    "model = Pipeline(steps=[('preprocessor', preprocessor),\n",
    "                        ('regressor', RandomForestRegressor(n_estimators=100, random_state=42))])\n",
    "\n",
    "# Entrenamiento del modelo\n",
    "model.fit(X_train, y_train)\n",
    "\n",
    "# Evaluación del modelo\n",
    "y_pred = model.predict(X_test)\n",
    "mae = mean_absolute_error(y_test, y_pred)\n",
    "print(f'Mean Absolute Error: {mae}')\n"
   ]
  },
  {
   "cell_type": "code",
   "execution_count": null,
   "metadata": {},
   "outputs": [
    {
     "name": "stderr",
     "output_type": "stream",
     "text": [
      "UsageError: Line magic function `%%script` not found.\n"
     ]
    }
   ],
   "source": [
    "# Predicción\n",
    "%%script false\n",
    "new_data = pd.DataFrame({\n",
    "    'club': ['TeamA'],\n",
    "    'leagueCountry': ['England'],\n",
    "    'age': [25],\n",
    "    'height': [180],\n",
    "    'weight': [75],\n",
    "    'position': ['Forward'],\n",
    "    'games': [20],\n",
    "    'victories': [10],\n",
    "    'ties': [5],\n",
    "    'defeats': [5],\n",
    "    'yellowCards': [2],\n",
    "    'yellowReds': [1],\n",
    "    'redCards': [0],\n",
    "    'rater1': [3],\n",
    "    'rater2': [3],\n",
    "    'refCountry': ['England'],\n",
    "    'meanIAT': [0.5],\n",
    "    'meanExp': [0.3]\n",
    "})\n",
    "\n",
    "goals_pred = model.predict(new_data)\n",
    "print(f'Predicted Goals: {goals_pred[0]}')\n",
    "\n",
    "# Ver todos los objetos creados\n",
    "import pprint\n",
    "pprint.pprint(dir())\n",
    "\n",
    "X"
   ]
  }
 ],
 "metadata": {
  "kernelspec": {
   "display_name": ".venv",
   "language": "python",
   "name": "python3"
  },
  "language_info": {
   "codemirror_mode": {
    "name": "ipython",
    "version": 3
   },
   "file_extension": ".py",
   "mimetype": "text/x-python",
   "name": "python",
   "nbconvert_exporter": "python",
   "pygments_lexer": "ipython3",
   "version": "3.12.4"
  }
 },
 "nbformat": 4,
 "nbformat_minor": 2
}
